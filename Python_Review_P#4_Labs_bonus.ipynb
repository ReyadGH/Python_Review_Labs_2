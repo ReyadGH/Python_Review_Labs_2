{
 "cells": [
  {
   "cell_type": "markdown",
   "metadata": {},
   "source": [
    "## Problem Description\n",
    "\n",
    "This program is to test basic input handling and error management in Python. Below are the steps to create a sush a program using try-except in python:\n",
    "\n",
    "### Steps:\n",
    "1. **User Input for Name:**\n",
    "   - Ask the user to enter name.\n",
    "\n",
    "2. **User Input for Age:**\n",
    "   - Ask the user to enter age.\n",
    "\n",
    "3. **Ages Between 0 And 6 Or Less Output:**\n",
    "   - If the age is between **0 and 6**, print `\"Kid\"`.\n",
    "   - If the age is **under 0**, print `\"Wrong age value, you can not enter value 0 or less.\"`\n",
    "\n",
    "4. **Ages Greater than 6:**\n",
    "   - Create an empty variable `total_cost` with value of `0`.\n",
    "   - Ask the user to enter the number of items they want to buy.\n",
    "   - For each item, do:\n",
    "     - Ask for the item name.\n",
    "     - Ask for the item price.\n",
    "     - Ask the item quantity.\n",
    "     - Calculate the item total cost by multiplying the quantity by the price (`item_cost`).\n",
    "     - Update `total_cost` by adding the value of `item_cost`.\n",
    "     - Print the `item_cost` and the `total_cost`.\n",
    "\n",
    "5. **Discount Calculation:**\n",
    "   - If the `total_cost` is greater than 200, apply a discount of 20% for this and print the discounted total cost.\n",
    "\n",
    "6. **Error Handling:**\n",
    "   - To handle any unexpected inputs from the user (use casting and catch errors).\n",
    "\n",
    "7. **Repetition Control:**\n",
    "   - After executing the steps above, ask the user if the user want to repeat the process from step 1 to 6.\n"
   ]
  },
  {
   "cell_type": "code",
   "execution_count": 4,
   "metadata": {},
   "outputs": [
    {
     "name": "stdout",
     "output_type": "stream",
     "text": [
      "Item Cost for Potato: 101.0\n",
      "Total Cost so far: 101.0\n",
      "Item Cost for Tomato: 100.0\n",
      "Total Cost so far: 201.0\n",
      "Thank You Riyadh Alghamdi, for shopping with us.\n",
      "Your total cost after discount: 160.8\n",
      "Kid\n",
      "Wrong age value, you cannot enter value 0 or less.\n"
     ]
    }
   ],
   "source": [
    "while True:  # Repeat until user say no\n",
    "    try:  # Try block to catch errors\n",
    "        \n",
    "        # User details\n",
    "        name = input('Enter your name: ')\n",
    "        age = int(input('Enter your age: '))\n",
    "\n",
    "        # Age logic\n",
    "        if age < 0:  # Check for negative age\n",
    "            print('Wrong age value, you cannot enter value 0 or less.')\n",
    "\n",
    "        elif age <= 6:  # Age between 0 and 6\n",
    "            print('Kid')\n",
    "\n",
    "        else:  # Age is greater than 6\n",
    "            total_cost = 0  # Initialize total_cost\n",
    "            num_items = int(input('Enter the number of items you want to buy: '))\n",
    "\n",
    "            for _ in range(num_items):  # Loop through each item (this can be done with while-loop but i used for to use more than one loop type 😉)\n",
    "                item_name = input('Enter the item name: ')\n",
    "                item_price = float(input('Enter the item price: '))\n",
    "                item_quantity = int(input('Enter the item quantity: '))\n",
    "                item_cost = item_price * item_quantity  # Calculate cost of the item\n",
    "                total_cost += item_cost  # Add item cost to total\n",
    "                print(f'Item Cost for {item_name}: {item_cost}')\n",
    "                print(f'Total Cost so far: {total_cost}')\n",
    "\n",
    "            print(f'Thank You {name}, for shopping with us.')\n",
    "\n",
    "            # Check for discount\n",
    "            if total_cost > 200: \n",
    "                discount = total_cost * 0.20  # Calculate 20% discount\n",
    "                total_cost -= discount  # Apply discount\n",
    "                print(f'Your total cost after discount: {total_cost}')\n",
    "            else:\n",
    "                print(f'Total cost: {total_cost}')\n",
    "\n",
    "    except ValueError:  # Catch ValueError if non-integer (or float for \"item_price\") is entered\n",
    "        print('Please enter valid numeric values.')\n",
    "\n",
    "    except Exception as e:  # Catch other exceptions (all other errors)\n",
    "        print(f'An error occurred: {e}')\n",
    "\n",
    "    # Ask user to repeat or no\n",
    "    repeat = input('Do you want to repeat the process? (\"yes\" to continue): ')\n",
    "\n",
    "    if repeat.lower() != 'yes':\n",
    "        print(\"Thank You, cya\")\n",
    "        break  # Exit the loop if uesr dont want to repeat"
   ]
  }
 ],
 "metadata": {
  "kernelspec": {
   "display_name": "Python 3",
   "language": "python",
   "name": "python3"
  },
  "language_info": {
   "codemirror_mode": {
    "name": "ipython",
    "version": 3
   },
   "file_extension": ".py",
   "mimetype": "text/x-python",
   "name": "python",
   "nbconvert_exporter": "python",
   "pygments_lexer": "ipython3",
   "version": "3.11.1"
  }
 },
 "nbformat": 4,
 "nbformat_minor": 2
}
