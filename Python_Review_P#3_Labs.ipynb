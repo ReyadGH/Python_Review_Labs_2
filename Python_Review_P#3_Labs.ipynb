{
 "cells": [
  {
   "cell_type": "markdown",
   "id": "2d4a0e4d",
   "metadata": {},
   "source": [
    "## Lab1-Lists\n",
    "Given the following list : [5, 4, 17, 19, 30, 2, 7, 10, 45]\n",
    "- Q1: Write a Python program to sum all the items in the list.\n",
    "- Q2: Write a Python program to get the largest number from the list.\n",
    "- Q3: Use list comprehension, create a new list from the above list containing only even numbers.\n",
    "- Q4: Use list slicing to get a new list from the previous list starting from the start to the 5th element in the list."
   ]
  },
  {
   "cell_type": "markdown",
   "id": "80cd6cfe",
   "metadata": {},
   "source": [
    "Setup :"
   ]
  },
  {
   "cell_type": "code",
   "execution_count": 1,
   "id": "a320cd71",
   "metadata": {},
   "outputs": [],
   "source": [
    "lst = [5, 4, 17, 19, 30, 2, 7, 10, 45]"
   ]
  },
  {
   "cell_type": "markdown",
   "id": "9afa39ac",
   "metadata": {},
   "source": [
    "### Q1 : Write a Python program to sum all the items in the list."
   ]
  },
  {
   "cell_type": "code",
   "execution_count": 2,
   "id": "88e0fe9c",
   "metadata": {},
   "outputs": [
    {
     "name": "stdout",
     "output_type": "stream",
     "text": [
      "139\n"
     ]
    }
   ],
   "source": [
    "listSum = sum(lst)\n",
    "print(listSum)"
   ]
  },
  {
   "cell_type": "markdown",
   "id": "aa485efa",
   "metadata": {},
   "source": [
    "### Q2: Write a Python program to get the largest number from the list."
   ]
  },
  {
   "cell_type": "code",
   "execution_count": 4,
   "id": "7b296573",
   "metadata": {},
   "outputs": [
    {
     "name": "stdout",
     "output_type": "stream",
     "text": [
      "45\n"
     ]
    }
   ],
   "source": [
    "listMax = max(lst)\n",
    "print(listMax)"
   ]
  },
  {
   "cell_type": "markdown",
   "id": "e25fbc27",
   "metadata": {},
   "source": [
    "### Q3: Use list comprehension, create a new list from the above list containing only even numbers."
   ]
  },
  {
   "cell_type": "code",
   "execution_count": null,
   "id": "30a293b5",
   "metadata": {},
   "outputs": [
    {
     "name": "stdout",
     "output_type": "stream",
     "text": [
      "[4, 30, 2, 10]\n"
     ]
    }
   ],
   "source": [
    "evenList = [n for n in lst if n%2 == 0]\n",
    "print(evenList)"
   ]
  },
  {
   "cell_type": "markdown",
   "id": "9956e876",
   "metadata": {},
   "source": [
    "### Q4: Use list slicing to get a new list from the previous list starting from the start to the 5th element in the list."
   ]
  },
  {
   "cell_type": "code",
   "execution_count": 7,
   "id": "dddd53c3",
   "metadata": {},
   "outputs": [
    {
     "name": "stdout",
     "output_type": "stream",
     "text": [
      "[5, 4, 17, 19, 30]\n"
     ]
    }
   ],
   "source": [
    "slicedList = lst[0:5]\n",
    "print(slicedList)"
   ]
  },
  {
   "cell_type": "markdown",
   "id": "4df61e4c",
   "metadata": {},
   "source": [
    "## Lab2-Dictionary\n",
    "\n",
    "Build a phone book program that receives the phone number, and returns the name of the owner. \n",
    "You can follow the table below:\n",
    "\n",
    "| Name    | Number      |\n",
    "| -------- | ---------- |\n",
    "| Amal     | 1111111111 |\n",
    "| Mohammed | 2222222222 |\n",
    "| Khadijah | 3333333333 |\n",
    "| Abdullah  | 4444444444 |\n",
    "| Rawan    | 5555555555 |\n",
    "| Faisal   | 6666666666 |\n",
    "| Layla    | 7777777777 |\n",
    "\n",
    "\n",
    "- If the number exists, print the owner. Otherwise, print \"Sorry, the number is not found\".\n",
    "- If the number is less or more than 10 numbers, print \"This is invalid number\".\n",
    "- If the number contains letters or symbols, print \"This is invalid number\"."
   ]
  },
  {
   "cell_type": "markdown",
   "id": "ba3c5124",
   "metadata": {},
   "source": [
    "Setup:"
   ]
  },
  {
   "cell_type": "code",
   "execution_count": 4,
   "id": "c8cad1c5",
   "metadata": {},
   "outputs": [
    {
     "data": {
      "text/plain": [
       "'This Dictionary defines our phone book by using the Key as the name of the number owner, and the Value for the phone number.'"
      ]
     },
     "execution_count": 4,
     "metadata": {},
     "output_type": "execute_result"
    }
   ],
   "source": [
    "phoneBookDict = {\n",
    "    \"amal\": 1111111111,\n",
    "    \"Mohammed\": 2222222222,\n",
    "    \"Khadijah\": 3333333333,\n",
    "    \"Abdullah\": 4444444444,\n",
    "    \"Rawan\": 5555555555,\n",
    "    \"Faisal\": 6666666666,\n",
    "    \"Layla\": 7777777777,\n",
    "}\n",
    "'''This Dictionary defines our phone book by using the Key as the name of the number owner, and the Value for the phone number.'''"
   ]
  },
  {
   "cell_type": "markdown",
   "id": "1da7a272",
   "metadata": {},
   "source": [
    "### Step 1: If the number exists, print the owner. Otherwise, print \"Sorry, the number is not found\":"
   ]
  },
  {
   "cell_type": "code",
   "execution_count": 18,
   "id": "7d53c06c",
   "metadata": {},
   "outputs": [
    {
     "name": "stdout",
     "output_type": "stream",
     "text": [
      "Case testing:\n",
      "Case 1 (exist): 1111111111\n",
      "Case 2 (does not exist): Sorry, the number is not found\n"
     ]
    }
   ],
   "source": [
    "# Here i assume the name is case-sensitive and it must matches the name in phoneBookDict\n",
    "# Return the value for key if key is in the dictionary, else default. In our case it will return the number if the Name exists.\n",
    "phoneBookDict.get(\"amal\", \"Sorry, the number is not found\")\n",
    "\n",
    "# Test the cases\n",
    "print(\"Case testing:\")\n",
    "print(\"Case 1 (exist):\", phoneBookDict.get(\"amal\", \"Sorry, the number is not found\"))               # This should return a value\n",
    "print(\"Case 2 (does not exist):\", phoneBookDict.get(\"Riyadh\", \"Sorry, the number is not found\"))    # This should return \"Sorry, the number is not found\""
   ]
  },
  {
   "cell_type": "markdown",
   "id": "d05dee1d",
   "metadata": {},
   "source": [
    "### Step 2: If the number is less or more than 10 numbers, print \"This is invalid number\":"
   ]
  },
  {
   "cell_type": "code",
   "execution_count": 12,
   "id": "ffdffaec",
   "metadata": {},
   "outputs": [
    {
     "name": "stdout",
     "output_type": "stream",
     "text": [
      "This is invalid number\n"
     ]
    }
   ],
   "source": [
    "# Here i assume that the number will start with a number other than 0 (Example: 5123432341).\n",
    "userInput = input(\"Please enter the phone number: \")\n",
    "\n",
    "# This if-condation will check the length of the user input to make sure it is 10.\n",
    "if not(len(userInput) == 10):\n",
    "    print(\"This is invalid number\")\n",
    "\n",
    "# Test the output\n",
    "print(\"input length: {}, input value: {}\".format(len(userInput),userInput))"
   ]
  },
  {
   "cell_type": "markdown",
   "id": "538e1642",
   "metadata": {},
   "source": [
    "### Step 3: If the number contains letters or symbols, print \"This is invalid number\":"
   ]
  },
  {
   "cell_type": "code",
   "execution_count": 11,
   "id": "93b05ba5",
   "metadata": {},
   "outputs": [
    {
     "name": "stdout",
     "output_type": "stream",
     "text": [
      "input type: <class 'int'>, input value: 9999999999\n"
     ]
    }
   ],
   "source": [
    "# Here i assume that the number will start with a number other than 0 (Example: 5123432341).\n",
    "userInput = input(\"Please enter the phone number: \")\n",
    "\n",
    "# This if-condation will change the value of userInput only if it is valid number \n",
    "if userInput.isdigit():\n",
    "    userInput = int(userInput)\n",
    "else:\n",
    "    print(\"This is invalid number\")\n",
    "\n",
    "# Test the output\n",
    "print(\"input type: {}, input value: {}\".format(type(userInput),userInput))"
   ]
  },
  {
   "cell_type": "markdown",
   "id": "0d9422fc",
   "metadata": {},
   "source": [
    "### *Complete program:*"
   ]
  },
  {
   "cell_type": "code",
   "execution_count": 26,
   "id": "b1be54e6",
   "metadata": {},
   "outputs": [
    {
     "name": "stdout",
     "output_type": "stream",
     "text": [
      "Welcome to \"Phone Book Program\"\n",
      "\n",
      "1. Search for a phone\n",
      "2. Add new phone record\n",
      "3. Show all phone records\n",
      "4. Exit\n",
      " Result for Riyadh: 1928374827\n",
      "1. Search for a phone\n",
      "2. Add new phone record\n",
      "3. Show all phone records\n",
      "4. Exit\n",
      " Result for dsadas: Sorry, the number is not found\n",
      "1. Search for a phone\n",
      "2. Add new phone record\n",
      "3. Show all phone records\n",
      "4. Exit\n",
      "Name: amal, Phone Number: 1111111111\n",
      "Name: Mohammed, Phone Number: 2222222222\n",
      "Name: Khadijah, Phone Number: 3333333333\n",
      "Name: Abdullah, Phone Number: 4444444444\n",
      "Name: Rawan, Phone Number: 5555555555\n",
      "Name: Faisal, Phone Number: 6666666666\n",
      "Name: Layla, Phone Number: 7777777777\n",
      "Name: Riyadh, Phone Number: 1928374827\n",
      "1. Search for a phone\n",
      "2. Add new phone record\n",
      "3. Show all phone records\n",
      "4. Exit\n",
      "Thank you\n"
     ]
    }
   ],
   "source": [
    "def getPhone():\n",
    "    \"\"\"\n",
    "    Asks the user for a name and searches for the corresponding phone number in the phone book.\n",
    "    Prints the phone number if found, or an error message if not found.\n",
    "    \"\"\"\n",
    "    name = input(\"Please enter the name to search: \")\n",
    "    result = phoneBookDict.get(name, \"Sorry, the number is not found\")\n",
    "    print(f\" Result for {name}: {result}\")\n",
    "\n",
    "def addPhone():\n",
    "    \"\"\"\n",
    "    Asks the user for a name and a phone number, validates the phone number,\n",
    "    and adds it to the phone book if valid. Prints a success message or an error message based on validation result.\n",
    "    \"\"\"\n",
    "    name = input(\"Please enter the name: \")\n",
    "    number = input(\"Please enter the phone number: \")\n",
    "    if validate(number):\n",
    "        phoneBookDict[name] = number\n",
    "        print(\"Record added successfully.\")\n",
    "    else:\n",
    "        print(\"Invalid phone number.\")\n",
    "\n",
    "def printBook():\n",
    "    \"\"\"\n",
    "    Displays all the records in the phone book. Prints each name and its corresponding phone number,\n",
    "    or a message if the phone book is empty.\n",
    "    \"\"\"\n",
    "    if phoneBookDict:\n",
    "        for name, number in phoneBookDict.items():\n",
    "            print(f\"Name: {name}, Phone Number: {number}\")\n",
    "    else:\n",
    "        print(\"No records found.\")\n",
    "\n",
    "def validate(phone: str) -> bool:\n",
    "    \"\"\"\n",
    "    Validates the phone number.\n",
    "    \n",
    "    Parameters:\n",
    "    phone (str): The phone number to validate.\n",
    "\n",
    "    Returns:\n",
    "    bool: True if the phone number is exactly 10 digits, and contains only digits; False otherwise.\n",
    "    \"\"\"\n",
    "    return len(phone) == 10 and phone.isdigit()\n",
    "\n",
    "print('Welcome to \"Phone Book Program\"\\n')\n",
    "while True:\n",
    "    print('1. Search for a phone')\n",
    "    print('2. Add new phone record')\n",
    "    print('3. Show all phone records')\n",
    "    print('4. Exit')\n",
    "    \n",
    "    userInput = input('Please Enter a number: ')\n",
    "\n",
    "    if userInput == \"4\":\n",
    "        print(\"Thank you\")\n",
    "        break\n",
    "    if userInput in ['1', '2', '3']:\n",
    "        menu = {\n",
    "            \"1\": getPhone,\n",
    "            \"2\": addPhone,\n",
    "            \"3\": printBook,\n",
    "        }\n",
    "        menu[userInput]()\n",
    "    else:\n",
    "        print(\"Invalid option. Please enter a valid option.\")"
   ]
  }
 ],
 "metadata": {
  "kernelspec": {
   "display_name": "Python 3 (ipykernel)",
   "language": "python",
   "name": "python3"
  },
  "language_info": {
   "codemirror_mode": {
    "name": "ipython",
    "version": 3
   },
   "file_extension": ".py",
   "mimetype": "text/x-python",
   "name": "python",
   "nbconvert_exporter": "python",
   "pygments_lexer": "ipython3",
   "version": "3.11.1"
  }
 },
 "nbformat": 4,
 "nbformat_minor": 5
}
